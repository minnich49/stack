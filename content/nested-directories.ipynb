{
 "cells": [
  {
   "cell_type": "raw",
   "metadata": {},
   "source": [
    "- title: Creating Nested Directories\n",
    "- date: 2018-05-11\n",
    "- category: directory\n",
    "- slug: nested-directories\n",
    "- tags: directory, os\n",
    "- references:  https://stackoverflow.com/questions/273192/how-can-i-safely-create-a-nested-directory\n",
    "- references_python: https://docs.python.org/3/library/pathlib.html,https://docs.python.org/3/library/os.html#os.mkdir\n",
    "- reference_names_python: pathlib,os.mkdir\n",
    "- Subcells: [1, 5]\n"
   ]
  },
  {
   "cell_type": "markdown",
   "metadata": {},
   "source": [
    "### How can you safely create a nested directory?"
   ]
  },
  {
   "cell_type": "code",
   "execution_count": 6,
   "metadata": {},
   "outputs": [],
   "source": [
    "from pathlib import Path\n",
    "Path('folder1/folder2').mkdir(parents=True, exist_ok=True)"
   ]
  },
  {
   "cell_type": "markdown",
   "metadata": {},
   "source": [
    "This will create the following folder structure\n",
    "```\n",
    "folder1   \n",
    "    └─folder2\n",
    "```"
   ]
  },
  {
   "cell_type": "markdown",
   "metadata": {},
   "source": [
    "* The `parents = True` will create any parent directories needed. Here `folder1` is created because it is needed as a `parent` to create `folder2`.\n",
    "* `exist_ok = True` Will ignore any errors if the folder already exists. This will not replace and overwrite any folder contents.\n"
   ]
  },
  {
   "cell_type": "code",
   "execution_count": 7,
   "metadata": {},
   "outputs": [],
   "source": [
    "Path('folder1/folder2').rmdir()\n"
   ]
  },
  {
   "cell_type": "code",
   "execution_count": 15,
   "metadata": {},
   "outputs": [
    {
     "name": "stdout",
     "output_type": "stream",
     "text": [
      "\n",
      "Original Markup:\n",
      "<a class=\"test\" href=\"http://example.com/\">HTML<i>example.com</i></a>\n",
      "\n",
      "Original Markup with new text:\n",
      "<a class=\"test\" href=\"http://example.com/\">CSS</a>\n"
     ]
    }
   ],
   "source": [
    "from bs4 import BeautifulSoup\n",
    "html_doc = '<a href=\"http://example.com/\">HTML<i>example.com</i></a>'\n",
    "soup = BeautifulSoup(html_doc, \"lxml\")\n",
    "tag = soup.a\n",
    "tag.attrs['class'] = 'test'\n",
    "print(\"\\nOriginal Markup:\")\n",
    "print(tag)\n",
    "print(\"\\nOriginal Markup with new text:\")\n",
    "tag.string = \"CSS\"\n",
    "print(tag)\n"
   ]
  },
  {
   "cell_type": "code",
   "execution_count": 11,
   "metadata": {},
   "outputs": [
    {
     "ename": "SyntaxError",
     "evalue": "invalid syntax (<ipython-input-11-5bbb77d1caef>, line 1)",
     "output_type": "error",
     "traceback": [
      "\u001b[0;36m  File \u001b[0;32m\"<ipython-input-11-5bbb77d1caef>\"\u001b[0;36m, line \u001b[0;32m1\u001b[0m\n\u001b[0;31m    tag.class = 'test'\u001b[0m\n\u001b[0m            ^\u001b[0m\n\u001b[0;31mSyntaxError\u001b[0m\u001b[0;31m:\u001b[0m invalid syntax\n"
     ]
    }
   ],
   "source": [
    "tag.class = 'test'"
   ]
  },
  {
   "cell_type": "code",
   "execution_count": 14,
   "metadata": {},
   "outputs": [],
   "source": []
  },
  {
   "cell_type": "code",
   "execution_count": null,
   "metadata": {},
   "outputs": [],
   "source": []
  }
 ],
 "metadata": {
  "kernelspec": {
   "display_name": "env",
   "language": "python",
   "name": "env"
  },
  "language_info": {
   "codemirror_mode": {
    "name": "ipython",
    "version": 3
   },
   "file_extension": ".py",
   "mimetype": "text/x-python",
   "name": "python",
   "nbconvert_exporter": "python",
   "pygments_lexer": "ipython3",
   "version": "3.6.8"
  }
 },
 "nbformat": 4,
 "nbformat_minor": 4
}
