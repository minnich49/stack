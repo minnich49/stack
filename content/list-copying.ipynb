{
 "cells": [
  {
   "cell_type": "raw",
   "metadata": {},
   "source": [
    "- title: Copying a List\n",
    "- date: 2018-05-11\n",
    "- category: list\n",
    "- slug: list-copying\n",
    "- tags: list\n",
    "- Subcells: [2, None]\n"
   ]
  },
  {
   "cell_type": "markdown",
   "metadata": {},
   "source": [
    "### Reference : https://stackoverflow.com/questions/2612802/how-to-clone-or-copy-a-list"
   ]
  },
  {
   "cell_type": "markdown",
   "metadata": {},
   "source": [
    "Key Ideas\n",
    "* Lists are used to store items, you need to be careful when copying them\n",
    "\n",
    "Questions\n",
    "* Why does changing an item in one list, impact other lists?"
   ]
  },
  {
   "cell_type": "code",
   "execution_count": 22,
   "metadata": {},
   "outputs": [],
   "source": [
    "# Define dictionaries\n",
    "mylist = [1,2,3,4]\n",
    "new_list = mylist.copy()"
   ]
  },
  {
   "cell_type": "markdown",
   "metadata": {},
   "source": [
    "### Warning: The following can cause headaches later in within oyur python code. Setting a list equal to another creates a reference to the first list. Any changes to either list will result in a change to both"
   ]
  },
  {
   "cell_type": "code",
   "execution_count": 23,
   "metadata": {},
   "outputs": [
    {
     "name": "stdout",
     "output_type": "stream",
     "text": [
      "[1, 2, 3, 4]\n"
     ]
    }
   ],
   "source": [
    "mylist_incorrect = mylist\n",
    "print(mylist_incorrect)"
   ]
  },
  {
   "cell_type": "code",
   "execution_count": 24,
   "metadata": {},
   "outputs": [
    {
     "name": "stdout",
     "output_type": "stream",
     "text": [
      "[1, 10, 3, 4]\n",
      "[1, 10, 3, 4]\n"
     ]
    }
   ],
   "source": [
    "mylist_incorrect[1] = 10\n",
    "print(mylist_incorrect)\n",
    "print(mylist)"
   ]
  }
 ],
 "metadata": {
  "kernelspec": {
   "display_name": "env",
   "language": "python",
   "name": "env"
  },
  "language_info": {
   "codemirror_mode": {
    "name": "ipython",
    "version": 3
   },
   "file_extension": ".py",
   "mimetype": "text/x-python",
   "name": "python",
   "nbconvert_exporter": "python",
   "pygments_lexer": "ipython3",
   "version": "3.6.8"
  }
 },
 "nbformat": 4,
 "nbformat_minor": 4
}
