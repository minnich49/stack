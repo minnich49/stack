{
 "cells": [
  {
   "cell_type": "raw",
   "metadata": {},
   "source": [
    "- title: Explaning Python's List Comprehension\n",
    "- date: 2019-02-01\n",
    "- category: list\n",
    "- slug: list-comprehension\n",
    "- tags: list, list comprehension\n",
    "- references:  https://stackoverflow.com/questions/20639180/explanation-of-how-nested-list-comprehension-works,https://stackoverflow.com/questions/29504025/nested-loop-list-comprehension-in-python-cant-recognize-variable-in-outer-loo\n",
    "- references_python: https://docs.python.org/3/c-api/list.html\n",
    "- reference_names_python: list\n",
    "- related_questions: How can you create a for loop in one line?,How do you filter a list?\n",
    "- Subcells: [1, None]\n"
   ]
  },
  {
   "cell_type": "code",
   "execution_count": null,
   "metadata": {},
   "outputs": [],
   "source": []
  },
  {
   "cell_type": "markdown",
   "metadata": {},
   "source": [
    "Key Ideas\n",
    "* List Comprehensions can be used to create more condensed for loops"
   ]
  },
  {
   "cell_type": "markdown",
   "metadata": {},
   "source": [
    ":::python\n",
    "print(\"The triple-colon syntax will *not* show line numbers.\")\n"
   ]
  },
  {
   "cell_type": "code",
   "execution_count": 1,
   "metadata": {},
   "outputs": [],
   "source": [
    "food_list = ['Whole wheat bread', 'pita pockets', 'English muffins', 'Whole-grain',\n",
    "             'flour tortillas']"
   ]
  },
  {
   "cell_type": "markdown",
   "metadata": {},
   "source": [
    "If we wanted to filter the list with a `for` loop:"
   ]
  },
  {
   "cell_type": "code",
   "execution_count": 2,
   "metadata": {},
   "outputs": [
    {
     "name": "stdout",
     "output_type": "stream",
     "text": [
      "['Whole wheat bread', 'Whole-grain']\n"
     ]
    }
   ],
   "source": [
    "filtered_food_list = []\n",
    "for food in food_list:\n",
    "    if 'Whole' in food:\n",
    "        filtered_food_list.append(food)\n",
    "print(filtered_food_list)"
   ]
  },
  {
   "cell_type": "markdown",
   "metadata": {},
   "source": [
    "We can create the same list in one line using a list comprehension"
   ]
  },
  {
   "cell_type": "code",
   "execution_count": 3,
   "metadata": {},
   "outputs": [
    {
     "data": {
      "text/plain": [
       "['Whole wheat bread', 'Whole-grain']"
      ]
     },
     "execution_count": 3,
     "metadata": {},
     "output_type": "execute_result"
    }
   ],
   "source": [
    "filtered_food_list = [food for food in food_list if 'Whole' in food]\n",
    "filtered_food_list"
   ]
  },
  {
   "cell_type": "markdown",
   "metadata": {},
   "source": [
    "Here is a breakdown of what is happening within the comprehension"
   ]
  },
  {
   "cell_type": "code",
   "execution_count": null,
   "metadata": {},
   "outputs": [],
   "source": []
  },
  {
   "cell_type": "raw",
   "metadata": {},
   "source": [
    "<img src=\"images/list_comprehension.png\" \n",
    "     width=\"65%\">\n"
   ]
  },
  {
   "cell_type": "markdown",
   "metadata": {},
   "source": [
    "The same can be applied to a dictionary"
   ]
  },
  {
   "cell_type": "code",
   "execution_count": 4,
   "metadata": {},
   "outputs": [
    {
     "name": "stdout",
     "output_type": "stream",
     "text": [
      "{1: 'Whole', 2: 'Whole Wheat'}\n"
     ]
    }
   ],
   "source": [
    "food_dictionary = {1: 'Whole',\n",
    "2: 'Whole Wheat',\n",
    "3: 'Bread'}\n",
    "\n",
    "filtered_food_dict = {}\n",
    "for key,value in food_dictionary.items():\n",
    "    if 'Whole' in value:\n",
    "        filtered_food_dict[key] = value\n",
    "print(filtered_food_dict)"
   ]
  }
 ],
 "metadata": {
  "kernelspec": {
   "display_name": "stack",
   "language": "python",
   "name": "stack"
  },
  "language_info": {
   "codemirror_mode": {
    "name": "ipython",
    "version": 2
   },
   "file_extension": ".py",
   "mimetype": "text/x-python",
   "name": "python",
   "nbconvert_exporter": "python",
   "pygments_lexer": "ipython2",
   "version": "2.7.13"
  }
 },
 "nbformat": 4,
 "nbformat_minor": 4
}
