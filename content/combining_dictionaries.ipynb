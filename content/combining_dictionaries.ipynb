{
 "cells": [
  {
   "cell_type": "raw",
   "metadata": {},
   "source": [
    "- title: Combining Dictionaries\n",
    "- date: 2018-05-11\n",
    "- category: dictionary\n",
    "- slug: combining-dictionaries\n",
    "- tags: dictionaries\n",
    "- Subcells: [2, None]\n"
   ]
  },
  {
   "cell_type": "markdown",
   "metadata": {},
   "source": [
    "### Reference : https://stackoverflow.com/questions/38987/how-do-i-merge-two-dictionaries-in-a-single-expression"
   ]
  },
  {
   "cell_type": "markdown",
   "metadata": {},
   "source": [
    "### How to combine multiple dictionaries?"
   ]
  },
  {
   "cell_type": "code",
   "execution_count": 18,
   "metadata": {},
   "outputs": [
    {
     "name": "stdout",
     "output_type": "stream",
     "text": [
      "{'a': 10, 'c': 4, 'b': 8, 'd': 6}\n"
     ]
    }
   ],
   "source": [
    "# Define dictionaries\n",
    "dict1 = {'a': 10, 'b': 8} \n",
    "dict2 = {'d': 6, 'c': 4} \n",
    "dict3  = {}\n",
    "\n",
    "# Update final dictionar with values from the prior two\n",
    "dict3.update(dict1)\n",
    "dict3.update(dict2)\n",
    "print(dict3)"
   ]
  },
  {
   "cell_type": "markdown",
   "metadata": {},
   "source": [
    "### Warning: If keys are repeated within the dictionary the latest key will be used and the other will be overwritten."
   ]
  },
  {
   "cell_type": "code",
   "execution_count": 19,
   "metadata": {},
   "outputs": [
    {
     "name": "stdout",
     "output_type": "stream",
     "text": [
      "{'a': 6, 'c': 4, 'b': 8}\n"
     ]
    }
   ],
   "source": [
    "dict1 = {'a': 10, 'b': 8} \n",
    "dict2 = {'a': 6, 'c': 4} \n",
    "dict3  = {}\n",
    "dict3.update(dict1)\n",
    "dict3.update(dict2)\n",
    "print(dict3)"
   ]
  }
 ],
 "metadata": {
  "kernelspec": {
   "display_name": "stack",
   "language": "python",
   "name": "stack"
  },
  "language_info": {
   "codemirror_mode": {
    "name": "ipython",
    "version": 2
   },
   "file_extension": ".py",
   "mimetype": "text/x-python",
   "name": "python",
   "nbconvert_exporter": "python",
   "pygments_lexer": "ipython2",
   "version": "2.7.13"
  }
 },
 "nbformat": 4,
 "nbformat_minor": 4
}
