{
 "cells": [
  {
   "cell_type": "raw",
   "metadata": {},
   "source": [
    "- title: Flattening a list of lists\n",
    "- date: 2019-02-01\n",
    "- category: list\n",
    "- slug: list-flattening\n",
    "- tags: list\n",
    "- Subcells: [2, None]\n"
   ]
  },
  {
   "cell_type": "markdown",
   "metadata": {},
   "source": [
    "### Reference : https://stackoverflow.com/questions/952914/how-to-make-a-flat-list-out-of-list-of-lists"
   ]
  },
  {
   "cell_type": "markdown",
   "metadata": {},
   "source": [
    "Key Ideas\n",
    "* Lists are used to store items, you need to be careful when copying them\n",
    "\n",
    "Questions\n",
    "* How do you combine a list of lists?\n",
    "* How do you flatten a list of lists"
   ]
  },
  {
   "cell_type": "code",
   "execution_count": 13,
   "metadata": {},
   "outputs": [
    {
     "name": "stdout",
     "output_type": "stream",
     "text": [
      "[1, 2, 3, 4, 'a', 'b', 'c', 'd']\n"
     ]
    }
   ],
   "source": [
    "l = [[1,2,3,4],['a','b','c','d']]\n",
    "\n",
    "# List compreshension\n",
    "flat_list = [item for sublist in l for item in sublist]\n",
    "print(flat_list)"
   ]
  },
  {
   "cell_type": "markdown",
   "metadata": {},
   "source": [
    "#### Related Links\n",
    " * <a href=../list-comprehension.html> List Comprehension </a>"
   ]
  }
 ],
 "metadata": {
  "kernelspec": {
   "display_name": "stack",
   "language": "python",
   "name": "stack"
  },
  "language_info": {
   "codemirror_mode": {
    "name": "ipython",
    "version": 2
   },
   "file_extension": ".py",
   "mimetype": "text/x-python",
   "name": "python",
   "nbconvert_exporter": "python",
   "pygments_lexer": "ipython2",
   "version": "2.7.13"
  }
 },
 "nbformat": 4,
 "nbformat_minor": 4
}
