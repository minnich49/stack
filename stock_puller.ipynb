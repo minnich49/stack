{
 "cells": [
  {
   "cell_type": "code",
   "execution_count": 1,
   "metadata": {},
   "outputs": [],
   "source": [
    "\n",
    "#!/usr/bin/env python\n",
    "\n",
    "try:\n",
    "    # For Python 3.0 and later\n",
    "    from urllib.request import urlopen\n",
    "except ImportError:\n",
    "    # Fall back to Python 2's urllib2\n",
    "    from urllib2 import urlopen\n",
    "\n",
    "import json\n",
    "\n",
    "def get_jsonparsed_data(url):\n",
    "    \"\"\"\n",
    "    Receive the content of ``url``, parse it as JSON and return the object.\n",
    "\n",
    "    Parameters\n",
    "    ----------\n",
    "    url : str\n",
    "\n",
    "    Returns\n",
    "    -------\n",
    "    dict\n",
    "    \"\"\"\n",
    "    response = urlopen(url)\n",
    "    data = response.read().decode(\"utf-8\")\n",
    "    return json.loads(data)\n",
    "\n",
    "stock = 'AAPL'\n"
   ]
  },
  {
   "cell_type": "code",
   "execution_count": null,
   "metadata": {},
   "outputs": [],
   "source": []
  },
  {
   "cell_type": "code",
   "execution_count": 2,
   "metadata": {},
   "outputs": [],
   "source": [
    "import pandas as pd"
   ]
  },
  {
   "cell_type": "code",
   "execution_count": null,
   "metadata": {},
   "outputs": [],
   "source": []
  },
  {
   "cell_type": "code",
   "execution_count": 3,
   "metadata": {},
   "outputs": [],
   "source": [
    "# a = get_jsonparsed_data(url)"
   ]
  },
  {
   "cell_type": "code",
   "execution_count": 4,
   "metadata": {},
   "outputs": [],
   "source": [
    "# stock"
   ]
  },
  {
   "cell_type": "code",
   "execution_count": 5,
   "metadata": {},
   "outputs": [],
   "source": [
    "def get_data(url):\n",
    "    json_data = get_jsonparsed_data(url)\n",
    "    key = [i for i in json_data.keys() if i !='symbol'][0]\n",
    "    return json_data[key]\n"
   ]
  },
  {
   "cell_type": "code",
   "execution_count": 6,
   "metadata": {},
   "outputs": [],
   "source": [
    "def parse_json_to_df(json_data):\n",
    "    metrics = pd.DataFrame(json_data)\n",
    "    metrics['date'] = pd.DatetimeIndex(metrics['date'])\n",
    "    metrics['date'] = pd.DatetimeIndex(metrics['date'].astype(str).str[0:8] + '01')\n",
    "    \n",
    "    metrics.columns =  metrics.columns.str.lower().str.replace(' ','_')\n",
    "    return metrics"
   ]
  },
  {
   "cell_type": "code",
   "execution_count": 7,
   "metadata": {},
   "outputs": [],
   "source": [
    "# url"
   ]
  },
  {
   "cell_type": "code",
   "execution_count": 8,
   "metadata": {},
   "outputs": [],
   "source": [
    "# json_data = get_data(url)\n",
    "# df = parse_json_to_df(json_data)"
   ]
  },
  {
   "cell_type": "code",
   "execution_count": 9,
   "metadata": {},
   "outputs": [],
   "source": [
    "# url"
   ]
  },
  {
   "cell_type": "code",
   "execution_count": null,
   "metadata": {},
   "outputs": [],
   "source": []
  },
  {
   "cell_type": "code",
   "execution_count": 10,
   "metadata": {},
   "outputs": [],
   "source": [
    "sp = pd.read_csv('constituents_csv.csv')"
   ]
  },
  {
   "cell_type": "code",
   "execution_count": null,
   "metadata": {},
   "outputs": [],
   "source": []
  },
  {
   "cell_type": "code",
   "execution_count": null,
   "metadata": {},
   "outputs": [],
   "source": []
  },
  {
   "cell_type": "code",
   "execution_count": null,
   "metadata": {},
   "outputs": [],
   "source": []
  },
  {
   "cell_type": "code",
   "execution_count": 11,
   "metadata": {},
   "outputs": [
    {
     "data": {
      "text/plain": [
       "Index(['Symbol', 'Name', 'Sector'], dtype='object')"
      ]
     },
     "execution_count": 11,
     "metadata": {},
     "output_type": "execute_result"
    }
   ],
   "source": [
    "sp.columns"
   ]
  },
  {
   "cell_type": "code",
   "execution_count": 12,
   "metadata": {},
   "outputs": [],
   "source": [
    "nasdaq = pd.read_csv('nasdaqlisted.txt',sep='|')"
   ]
  },
  {
   "cell_type": "code",
   "execution_count": 13,
   "metadata": {},
   "outputs": [],
   "source": [
    "import pickle\n",
    "file = open('stocks_s.pkl', 'wb')\n",
    "# not_found = pickle.load(open('not_found.pkl','rb'))\n",
    "sp_not_found = []"
   ]
  },
  {
   "cell_type": "code",
   "execution_count": null,
   "metadata": {},
   "outputs": [],
   "source": []
  },
  {
   "cell_type": "code",
   "execution_count": 14,
   "metadata": {},
   "outputs": [
    {
     "name": "stdout",
     "output_type": "stream",
     "text": [
      "\tSaving to  <_io.BufferedWriter name='stocks_s.pkl'> 1\n",
      "Didnt work for  AET\n",
      "Didnt work for  GOOG\n",
      "Didnt work for  ANDV\n",
      "\tSaving to  <_io.BufferedWriter name='stocks_s.pkl'> 48\n",
      "BRK.B list index out of range\n",
      "Didnt work for  BRK.B\n",
      "BF.B list index out of range\n",
      "Didnt work for  BF.B\n",
      "Didnt work for  CA\n",
      "\tSaving to  <_io.BufferedWriter name='stocks_s.pkl'> 95\n",
      "Didnt work for  CSRA\n",
      "Didnt work for  DISCK\n",
      "\tSaving to  <_io.BufferedWriter name='stocks_s.pkl'> 143\n",
      "Didnt work for  EVHC\n",
      "Didnt work for  ESRX\n",
      "\tSaving to  <_io.BufferedWriter name='stocks_s.pkl'> 191\n",
      "Didnt work for  GGP\n",
      "\tSaving to  <_io.BufferedWriter name='stocks_s.pkl'> 240\n",
      "Didnt work for  LUK\n",
      "\tSaving to  <_io.BufferedWriter name='stocks_s.pkl'> 289\n",
      "Didnt work for  KORS\n",
      "Didnt work for  MON\n",
      "Didnt work for  NFX\n",
      "Didnt work for  NWS\n",
      "\tSaving to  <_io.BufferedWriter name='stocks_s.pkl'> 335\n",
      "Didnt work for  PX\n",
      "Didnt work for  COL\n",
      "\tSaving to  <_io.BufferedWriter name='stocks_s.pkl'> 383\n",
      "Didnt work for  SCG\n",
      "Didnt work for  TWX\n",
      "\tSaving to  <_io.BufferedWriter name='stocks_s.pkl'> 431\n",
      "Didnt work for  WYN\n",
      "Didnt work for  XL\n",
      "\tSaving to  <_io.BufferedWriter name='stocks_s.pkl'> 479\n"
     ]
    }
   ],
   "source": [
    "df_list = []\n",
    "for i,row in sp.iterrows():\n",
    "    try:\n",
    "        stock = row['Symbol']\n",
    "        sector = row['Sector']\n",
    "        \n",
    "        if stock in sp_not_found:\n",
    "            continue\n",
    "        name = row['Name']\n",
    "\n",
    "\n",
    "        url = 'https://financialmodelingprep.com/api/v3/company-key-metrics/%s?period=quarter'%stock\n",
    "        json_data = get_data(url)\n",
    "        metrics = parse_json_to_df(json_data)\n",
    "        url = 'https://financialmodelingprep.com/api/v3/historical-price-full/%s?period=quarter'%stock\n",
    "        try: \n",
    "            json_data = get_data(url)\n",
    "        except Exception as e: \n",
    "            print (stock,e)\n",
    "        stock_df = parse_json_to_df(json_data).loc[:,['date','close','volume']]\n",
    "        stock_df = stock_df.groupby('date')[['close','volume']].mean().reset_index()\n",
    "        stock_df.columns = ['date','close','volume']\n",
    "        df = pd.merge(metrics,stock_df,on = ['date'])\n",
    "        df['stock'] = stock  \n",
    "        df['name'] = name\n",
    "        df['sector'] = sector\n",
    "        df_list.append(df)\n",
    "\n",
    "    except:\n",
    "        print('Didnt work for ',stock)\n",
    "        sp_not_found.append(stock)\n",
    "    if i % 50 == 0:\n",
    "        print('\\tSaving to ',file,len(df_list))\n",
    "        pickle.dump(df_list, file)\n"
   ]
  },
  {
   "cell_type": "code",
   "execution_count": 16,
   "metadata": {},
   "outputs": [],
   "source": [
    "# pickle.dump(df_list, file)\n",
    "# output = pd.concat(df_list)\n",
    "# output.to_csv('stock_metrics_sp.gzip',index = False,compression = 'gzip')\n"
   ]
  },
  {
   "cell_type": "code",
   "execution_count": null,
   "metadata": {},
   "outputs": [],
   "source": []
  },
  {
   "cell_type": "code",
   "execution_count": 26,
   "metadata": {},
   "outputs": [],
   "source": [
    "url = 'https://financialmodelingprep.com/api/v3/symbol/available-indexes'\n",
    "json_data = get_jsonparsed_data(url)\n",
    "indexes = pd.DataFrame(json_data)"
   ]
  },
  {
   "cell_type": "code",
   "execution_count": 27,
   "metadata": {},
   "outputs": [
    {
     "data": {
      "text/html": [
       "<div>\n",
       "<style scoped>\n",
       "    .dataframe tbody tr th:only-of-type {\n",
       "        vertical-align: middle;\n",
       "    }\n",
       "\n",
       "    .dataframe tbody tr th {\n",
       "        vertical-align: top;\n",
       "    }\n",
       "\n",
       "    .dataframe thead th {\n",
       "        text-align: right;\n",
       "    }\n",
       "</style>\n",
       "<table border=\"1\" class=\"dataframe\">\n",
       "  <thead>\n",
       "    <tr style=\"text-align: right;\">\n",
       "      <th></th>\n",
       "      <th>symbol</th>\n",
       "      <th>name</th>\n",
       "      <th>currency</th>\n",
       "      <th>stockExchange</th>\n",
       "      <th>exchangeShortName</th>\n",
       "    </tr>\n",
       "  </thead>\n",
       "  <tbody>\n",
       "    <tr>\n",
       "      <th>0</th>\n",
       "      <td>^STI</td>\n",
       "      <td>STI Index</td>\n",
       "      <td>SGD</td>\n",
       "      <td>SES</td>\n",
       "      <td>INDEX</td>\n",
       "    </tr>\n",
       "    <tr>\n",
       "      <th>1</th>\n",
       "      <td>^BVSP</td>\n",
       "      <td>IBOVESPA</td>\n",
       "      <td>BRL</td>\n",
       "      <td>Sao Paolo</td>\n",
       "      <td>INDEX</td>\n",
       "    </tr>\n",
       "    <tr>\n",
       "      <th>2</th>\n",
       "      <td>^MXX</td>\n",
       "      <td>IPC MEXICO</td>\n",
       "      <td>MXN</td>\n",
       "      <td>Mexico</td>\n",
       "      <td>INDEX</td>\n",
       "    </tr>\n",
       "    <tr>\n",
       "      <th>3</th>\n",
       "      <td>^GSPTSE</td>\n",
       "      <td>S&amp;P/TSX Composite index</td>\n",
       "      <td>CAD</td>\n",
       "      <td>Toronto</td>\n",
       "      <td>INDEX</td>\n",
       "    </tr>\n",
       "    <tr>\n",
       "      <th>4</th>\n",
       "      <td>^VIX</td>\n",
       "      <td>CBOE Volatility Index</td>\n",
       "      <td>USD</td>\n",
       "      <td>Chicago Options</td>\n",
       "      <td>INDEX</td>\n",
       "    </tr>\n",
       "    <tr>\n",
       "      <th>5</th>\n",
       "      <td>^DJI</td>\n",
       "      <td>Dow Jones Industrial Average</td>\n",
       "      <td>USD</td>\n",
       "      <td>DJI</td>\n",
       "      <td>INDEX</td>\n",
       "    </tr>\n",
       "    <tr>\n",
       "      <th>6</th>\n",
       "      <td>^FCHI</td>\n",
       "      <td>CAC 40</td>\n",
       "      <td>EUR</td>\n",
       "      <td>Paris</td>\n",
       "      <td>INDEX</td>\n",
       "    </tr>\n",
       "    <tr>\n",
       "      <th>7</th>\n",
       "      <td>^N100</td>\n",
       "      <td>EURONEXT 100</td>\n",
       "      <td>EUR</td>\n",
       "      <td>Paris</td>\n",
       "      <td>INDEX</td>\n",
       "    </tr>\n",
       "    <tr>\n",
       "      <th>8</th>\n",
       "      <td>IMOEX.ME</td>\n",
       "      <td>MOEX Russia Index</td>\n",
       "      <td>RUB</td>\n",
       "      <td>MCX</td>\n",
       "      <td>INDEX</td>\n",
       "    </tr>\n",
       "    <tr>\n",
       "      <th>9</th>\n",
       "      <td>^AXJO</td>\n",
       "      <td>S&amp;P/ASX 200</td>\n",
       "      <td>AUD</td>\n",
       "      <td>ASX</td>\n",
       "      <td>INDEX</td>\n",
       "    </tr>\n",
       "    <tr>\n",
       "      <th>10</th>\n",
       "      <td>^NYA</td>\n",
       "      <td>NYSE COMPOSITE (DJ)</td>\n",
       "      <td>USD</td>\n",
       "      <td>NYSE</td>\n",
       "      <td>INDEX</td>\n",
       "    </tr>\n",
       "    <tr>\n",
       "      <th>11</th>\n",
       "      <td>^NZ50</td>\n",
       "      <td>S&amp;amp;P/NZX 50 INDEX GROSS</td>\n",
       "      <td>NZD</td>\n",
       "      <td>NZSE</td>\n",
       "      <td>INDEX</td>\n",
       "    </tr>\n",
       "    <tr>\n",
       "      <th>12</th>\n",
       "      <td>^N225</td>\n",
       "      <td>Nikkei 225</td>\n",
       "      <td>JPY</td>\n",
       "      <td>Osaka</td>\n",
       "      <td>INDEX</td>\n",
       "    </tr>\n",
       "    <tr>\n",
       "      <th>13</th>\n",
       "      <td>^TWII</td>\n",
       "      <td>TSEC weighted index</td>\n",
       "      <td>TWD</td>\n",
       "      <td>Taiwan</td>\n",
       "      <td>INDEX</td>\n",
       "    </tr>\n",
       "    <tr>\n",
       "      <th>14</th>\n",
       "      <td>^IPSA</td>\n",
       "      <td>S&amp;P/CLX IPSA</td>\n",
       "      <td>CLP</td>\n",
       "      <td>Santiago</td>\n",
       "      <td>INDEX</td>\n",
       "    </tr>\n",
       "    <tr>\n",
       "      <th>15</th>\n",
       "      <td>^XAX</td>\n",
       "      <td>NYSE AMEX COMPOSITE INDEX</td>\n",
       "      <td>USD</td>\n",
       "      <td>NYSE</td>\n",
       "      <td>INDEX</td>\n",
       "    </tr>\n",
       "    <tr>\n",
       "      <th>16</th>\n",
       "      <td>^BFX</td>\n",
       "      <td>BEL 20</td>\n",
       "      <td>EUR</td>\n",
       "      <td>Brussels</td>\n",
       "      <td>INDEX</td>\n",
       "    </tr>\n",
       "    <tr>\n",
       "      <th>17</th>\n",
       "      <td>^TA125.TA</td>\n",
       "      <td>TA-125</td>\n",
       "      <td>ILS</td>\n",
       "      <td>Tel Aviv</td>\n",
       "      <td>INDEX</td>\n",
       "    </tr>\n",
       "    <tr>\n",
       "      <th>18</th>\n",
       "      <td>^KLSE</td>\n",
       "      <td>FTSE Bursa Malaysia KLCI</td>\n",
       "      <td>MYR</td>\n",
       "      <td>Kuala Lumpur</td>\n",
       "      <td>INDEX</td>\n",
       "    </tr>\n",
       "    <tr>\n",
       "      <th>19</th>\n",
       "      <td>^BSESN</td>\n",
       "      <td>S&amp;P BSE SENSEX</td>\n",
       "      <td>INR</td>\n",
       "      <td>BSE</td>\n",
       "      <td>INDEX</td>\n",
       "    </tr>\n",
       "    <tr>\n",
       "      <th>20</th>\n",
       "      <td>^STOXX50E</td>\n",
       "      <td>ESTX 50 PR.EUR</td>\n",
       "      <td>EUR</td>\n",
       "      <td>Zurich</td>\n",
       "      <td>INDEX</td>\n",
       "    </tr>\n",
       "    <tr>\n",
       "      <th>21</th>\n",
       "      <td>^IXIC</td>\n",
       "      <td>NASDAQ Composite</td>\n",
       "      <td>USD</td>\n",
       "      <td>Nasdaq GIDS</td>\n",
       "      <td>INDEX</td>\n",
       "    </tr>\n",
       "    <tr>\n",
       "      <th>22</th>\n",
       "      <td>^KS11</td>\n",
       "      <td>KOSPI Composite Index</td>\n",
       "      <td>KRW</td>\n",
       "      <td>KSE</td>\n",
       "      <td>INDEX</td>\n",
       "    </tr>\n",
       "    <tr>\n",
       "      <th>23</th>\n",
       "      <td>^MERV</td>\n",
       "      <td>MERVAL</td>\n",
       "      <td></td>\n",
       "      <td>Buenos Aires</td>\n",
       "      <td>INDEX</td>\n",
       "    </tr>\n",
       "    <tr>\n",
       "      <th>24</th>\n",
       "      <td>^HSI</td>\n",
       "      <td>HANG SENG INDEX</td>\n",
       "      <td>HKD</td>\n",
       "      <td>HKSE</td>\n",
       "      <td>INDEX</td>\n",
       "    </tr>\n",
       "    <tr>\n",
       "      <th>25</th>\n",
       "      <td>^JN0U.JO</td>\n",
       "      <td>Top 40 USD Net TRI Index</td>\n",
       "      <td>USD</td>\n",
       "      <td>Johannesburg</td>\n",
       "      <td>INDEX</td>\n",
       "    </tr>\n",
       "    <tr>\n",
       "      <th>26</th>\n",
       "      <td>000001.SS</td>\n",
       "      <td>SSE Composite Index</td>\n",
       "      <td>CNY</td>\n",
       "      <td>Shanghai</td>\n",
       "      <td>INDEX</td>\n",
       "    </tr>\n",
       "    <tr>\n",
       "      <th>27</th>\n",
       "      <td>^CASE30</td>\n",
       "      <td>EGX 30 Price Return Index</td>\n",
       "      <td>EGP</td>\n",
       "      <td>EGX</td>\n",
       "      <td>INDEX</td>\n",
       "    </tr>\n",
       "    <tr>\n",
       "      <th>28</th>\n",
       "      <td>^GSPC</td>\n",
       "      <td>S&amp;P 500</td>\n",
       "      <td>USD</td>\n",
       "      <td>SNP</td>\n",
       "      <td>INDEX</td>\n",
       "    </tr>\n",
       "    <tr>\n",
       "      <th>29</th>\n",
       "      <td>^FTSE</td>\n",
       "      <td>FTSE 100</td>\n",
       "      <td>GBP</td>\n",
       "      <td>FTSE Index</td>\n",
       "      <td>INDEX</td>\n",
       "    </tr>\n",
       "    <tr>\n",
       "      <th>30</th>\n",
       "      <td>^BUK100P</td>\n",
       "      <td>Cboe UK 100 Price Return</td>\n",
       "      <td>GBP</td>\n",
       "      <td>Stuttgart</td>\n",
       "      <td>INDEX</td>\n",
       "    </tr>\n",
       "    <tr>\n",
       "      <th>31</th>\n",
       "      <td>^AORD</td>\n",
       "      <td>ALL ORDINARIES</td>\n",
       "      <td>AUD</td>\n",
       "      <td>ASX</td>\n",
       "      <td>INDEX</td>\n",
       "    </tr>\n",
       "    <tr>\n",
       "      <th>32</th>\n",
       "      <td>^RUT</td>\n",
       "      <td>Russell 2000</td>\n",
       "      <td>USD</td>\n",
       "      <td>Chicago Options</td>\n",
       "      <td>INDEX</td>\n",
       "    </tr>\n",
       "    <tr>\n",
       "      <th>33</th>\n",
       "      <td>^GDAXI</td>\n",
       "      <td>DAX PERFORMANCE-INDEX</td>\n",
       "      <td>EUR</td>\n",
       "      <td>XETRA</td>\n",
       "      <td>INDEX</td>\n",
       "    </tr>\n",
       "    <tr>\n",
       "      <th>34</th>\n",
       "      <td>^JKSE</td>\n",
       "      <td>Jakarta Composite Index</td>\n",
       "      <td>IDR</td>\n",
       "      <td>Jakarta</td>\n",
       "      <td>INDEX</td>\n",
       "    </tr>\n",
       "  </tbody>\n",
       "</table>\n",
       "</div>"
      ],
      "text/plain": [
       "       symbol                          name currency    stockExchange  \\\n",
       "0        ^STI                     STI Index      SGD              SES   \n",
       "1       ^BVSP                      IBOVESPA      BRL        Sao Paolo   \n",
       "2        ^MXX                    IPC MEXICO      MXN           Mexico   \n",
       "3     ^GSPTSE       S&P/TSX Composite index      CAD          Toronto   \n",
       "4        ^VIX         CBOE Volatility Index      USD  Chicago Options   \n",
       "5        ^DJI  Dow Jones Industrial Average      USD              DJI   \n",
       "6       ^FCHI                        CAC 40      EUR            Paris   \n",
       "7       ^N100                  EURONEXT 100      EUR            Paris   \n",
       "8    IMOEX.ME             MOEX Russia Index      RUB              MCX   \n",
       "9       ^AXJO                   S&P/ASX 200      AUD              ASX   \n",
       "10       ^NYA           NYSE COMPOSITE (DJ)      USD             NYSE   \n",
       "11      ^NZ50    S&amp;P/NZX 50 INDEX GROSS      NZD             NZSE   \n",
       "12      ^N225                    Nikkei 225      JPY            Osaka   \n",
       "13      ^TWII           TSEC weighted index      TWD           Taiwan   \n",
       "14      ^IPSA                  S&P/CLX IPSA      CLP         Santiago   \n",
       "15       ^XAX     NYSE AMEX COMPOSITE INDEX      USD             NYSE   \n",
       "16       ^BFX                        BEL 20      EUR         Brussels   \n",
       "17  ^TA125.TA                        TA-125      ILS         Tel Aviv   \n",
       "18      ^KLSE      FTSE Bursa Malaysia KLCI      MYR     Kuala Lumpur   \n",
       "19     ^BSESN                S&P BSE SENSEX      INR              BSE   \n",
       "20  ^STOXX50E                ESTX 50 PR.EUR      EUR           Zurich   \n",
       "21      ^IXIC              NASDAQ Composite      USD      Nasdaq GIDS   \n",
       "22      ^KS11         KOSPI Composite Index      KRW              KSE   \n",
       "23      ^MERV                        MERVAL              Buenos Aires   \n",
       "24       ^HSI               HANG SENG INDEX      HKD             HKSE   \n",
       "25   ^JN0U.JO      Top 40 USD Net TRI Index      USD     Johannesburg   \n",
       "26  000001.SS           SSE Composite Index      CNY         Shanghai   \n",
       "27    ^CASE30     EGX 30 Price Return Index      EGP              EGX   \n",
       "28      ^GSPC                       S&P 500      USD              SNP   \n",
       "29      ^FTSE                      FTSE 100      GBP       FTSE Index   \n",
       "30   ^BUK100P      Cboe UK 100 Price Return      GBP        Stuttgart   \n",
       "31      ^AORD                ALL ORDINARIES      AUD              ASX   \n",
       "32       ^RUT                  Russell 2000      USD  Chicago Options   \n",
       "33     ^GDAXI         DAX PERFORMANCE-INDEX      EUR            XETRA   \n",
       "34      ^JKSE       Jakarta Composite Index      IDR          Jakarta   \n",
       "\n",
       "   exchangeShortName  \n",
       "0              INDEX  \n",
       "1              INDEX  \n",
       "2              INDEX  \n",
       "3              INDEX  \n",
       "4              INDEX  \n",
       "5              INDEX  \n",
       "6              INDEX  \n",
       "7              INDEX  \n",
       "8              INDEX  \n",
       "9              INDEX  \n",
       "10             INDEX  \n",
       "11             INDEX  \n",
       "12             INDEX  \n",
       "13             INDEX  \n",
       "14             INDEX  \n",
       "15             INDEX  \n",
       "16             INDEX  \n",
       "17             INDEX  \n",
       "18             INDEX  \n",
       "19             INDEX  \n",
       "20             INDEX  \n",
       "21             INDEX  \n",
       "22             INDEX  \n",
       "23             INDEX  \n",
       "24             INDEX  \n",
       "25             INDEX  \n",
       "26             INDEX  \n",
       "27             INDEX  \n",
       "28             INDEX  \n",
       "29             INDEX  \n",
       "30             INDEX  \n",
       "31             INDEX  \n",
       "32             INDEX  \n",
       "33             INDEX  \n",
       "34             INDEX  "
      ]
     },
     "execution_count": 27,
     "metadata": {},
     "output_type": "execute_result"
    }
   ],
   "source": [
    "indexes"
   ]
  },
  {
   "cell_type": "code",
   "execution_count": null,
   "metadata": {},
   "outputs": [],
   "source": []
  },
  {
   "cell_type": "code",
   "execution_count": null,
   "metadata": {},
   "outputs": [],
   "source": [
    "# file = open('not_found.pkl', 'wb')\n",
    "# pickle.dump(string_list, file)\n"
   ]
  },
  {
   "cell_type": "code",
   "execution_count": 50,
   "metadata": {},
   "outputs": [],
   "source": []
  },
  {
   "cell_type": "code",
   "execution_count": 65,
   "metadata": {},
   "outputs": [],
   "source": []
  },
  {
   "cell_type": "code",
   "execution_count": 63,
   "metadata": {},
   "outputs": [],
   "source": [
    "idx = 'sp'"
   ]
  },
  {
   "cell_type": "code",
   "execution_count": 66,
   "metadata": {},
   "outputs": [
    {
     "data": {
      "text/plain": [
       "<matplotlib.axes._subplots.AxesSubplot at 0x11c3d09b0>"
      ]
     },
     "execution_count": 66,
     "metadata": {},
     "output_type": "execute_result"
    },
    {
     "data": {
      "image/png": "[encoded data removed]",
      "text/plain": [
       "<Figure size 432x288 with 1 Axes>"
      ]
     },
     "metadata": {
      "needs_background": "light"
     },
     "output_type": "display_data"
    }
   ],
   "source": [
    "(df.groupby('date')['sp_percent'].mean() * 100).plot()"
   ]
  },
  {
   "cell_type": "code",
   "execution_count": 69,
   "metadata": {},
   "outputs": [],
   "source": [
    "import seaborn as sns"
   ]
  },
  {
   "cell_type": "code",
   "execution_count": 71,
   "metadata": {},
   "outputs": [
    {
     "data": {
      "text/plain": [
       "<matplotlib.axes._subplots.AxesSubplot at 0x123e8f588>"
      ]
     },
     "execution_count": 71,
     "metadata": {},
     "output_type": "execute_result"
    },
    {
     "data": {
      "image/png": "[encoded data removed]",
      "text/plain": [
       "<Figure size 432x288 with 1 Axes>"
      ]
     },
     "metadata": {
      "needs_background": "light"
     },
     "output_type": "display_data"
    }
   ],
   "source": [
    "sns.distplot(df.groupby('stock')['stock_percent'].last())"
   ]
  },
  {
   "cell_type": "code",
   "execution_count": null,
   "metadata": {},
   "outputs": [],
   "source": []
  },
  {
   "cell_type": "code",
   "execution_count": null,
   "metadata": {},
   "outputs": [],
   "source": []
  },
  {
   "cell_type": "code",
   "execution_count": null,
   "metadata": {},
   "outputs": [],
   "source": []
  },
  {
   "cell_type": "code",
   "execution_count": null,
   "metadata": {},
   "outputs": [],
   "source": []
  },
  {
   "cell_type": "code",
   "execution_count": null,
   "metadata": {},
   "outputs": [],
   "source": []
  },
  {
   "cell_type": "code",
   "execution_count": null,
   "metadata": {},
   "outputs": [],
   "source": []
  },
  {
   "cell_type": "code",
   "execution_count": 43,
   "metadata": {},
   "outputs": [
    {
     "data": {
      "text/plain": [
       "<matplotlib.axes._subplots.AxesSubplot at 0x120e4b550>"
      ]
     },
     "execution_count": 43,
     "metadata": {},
     "output_type": "execute_result"
    },
    {
     "data": {
      "image/png": "[encoded data removed]",
      "text/plain": [
       "<Figure size 432x288 with 1 Axes>"
      ]
     },
     "metadata": {
      "needs_background": "light"
     },
     "output_type": "display_data"
    }
   ],
   "source": []
  },
  {
   "cell_type": "code",
   "execution_count": 23,
   "metadata": {},
   "outputs": [],
   "source": [
    "df = df.sort_values('date')"
   ]
  },
  {
   "cell_type": "code",
   "execution_count": 24,
   "metadata": {},
   "outputs": [],
   "source": []
  },
  {
   "cell_type": "code",
   "execution_count": null,
   "metadata": {},
   "outputs": [],
   "source": [
    "df[df['stock'] == 'COF']"
   ]
  },
  {
   "cell_type": "code",
   "execution_count": null,
   "metadata": {},
   "outputs": [],
   "source": []
  }
 ],
 "metadata": {
  "kernelspec": {
   "display_name": "env",
   "language": "python",
   "name": "env"
  },
  "language_info": {
   "codemirror_mode": {
    "name": "ipython",
    "version": 3
   },
   "file_extension": ".py",
   "mimetype": "text/x-python",
   "name": "python",
   "nbconvert_exporter": "python",
   "pygments_lexer": "ipython3",
   "version": "3.6.8"
  }
 },
 "nbformat": 4,
 "nbformat_minor": 4
}
